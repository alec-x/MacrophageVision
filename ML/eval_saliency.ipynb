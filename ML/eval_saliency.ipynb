{
 "cells": [
  {
   "cell_type": "markdown",
   "metadata": {},
   "source": [
    "# Evaluate Saliency Maps for 3-Way Macrophage/Monocyte Classifier"
   ]
  },
  {
   "cell_type": "markdown",
   "metadata": {},
   "source": [
    "This tutorial demonstrates how to apply model interpretability algorithms from Captum library on a simple model and test samples from CIFAR dataset.\n",
    "\n",
    "In this tutorial we build a simple model as described in:\n",
    "https://pytorch.org/tutorials/beginner/blitz/cifar10_tutorial.html#sphx-glr-beginner-blitz-cifar10-tutorial-py\n",
    "\n",
    "Then we use attribution algorithms such as `IntegratedGradients`, `Saliency`, `DeepLift` and `NoiseTunnel` to attribute the label of the image to the input pixels and visualize it.\n",
    "  \n",
    "  **Note:** Before running this tutorial, please install the torchvision, and matplotlib packages."
   ]
  },
  {
   "cell_type": "code",
   "execution_count": null,
   "metadata": {},
   "outputs": [],
   "source": [
    "import matplotlib.pyplot as plt\n",
    "%matplotlib inline\n",
    "import numpy as np\n",
    "import pickle\n",
    "from utils import *\n",
    "\n",
    "import torch\n",
    "from torch.utils.data import DataLoader\n",
    "import torch.nn.functional as F\n",
    "\n",
    "import torchvision\n",
    "import torchvision.transforms as transforms\n",
    "\n",
    "from captum.attr import IntegratedGradients\n",
    "from captum.attr import Saliency\n",
    "from captum.attr import DeepLift\n",
    "from captum.attr import NoiseTunnel\n",
    "from captum.attr import visualization as viz\n",
    "\n",
    "import random\n",
    "from MacDataset import MacDataset\n",
    "import macnet\n",
    "import matplotlib.pyplot as plt\n",
    "import numpy as np\n",
    "import uuid"
   ]
  },
  {
   "cell_type": "code",
   "execution_count": null,
   "metadata": {},
   "outputs": [],
   "source": [
    "PATHS = [r\"..\\data\\processed\\kerryn_dec\\M0.pickle\", \n",
    "         r\"..\\data\\processed\\kerryn_dec\\M1.pickle\",\n",
    "         r\"..\\data\\processed\\kerryn_dec\\M2.pickle\"]\n",
    "BATCH_SIZE = 4\n",
    "NUM_WORKERS = 2"
   ]
  },
  {
   "cell_type": "markdown",
   "metadata": {},
   "source": [
    "In the cell below we load test and train datasets, define image transformers"
   ]
  },
  {
   "cell_type": "code",
   "execution_count": null,
   "metadata": {},
   "outputs": [],
   "source": [
    "transforms = transforms.Compose([\n",
    "    standardize_input()\n",
    "    ])"
   ]
  },
  {
   "cell_type": "code",
   "execution_count": null,
   "metadata": {},
   "outputs": [],
   "source": [
    "raw_images = []\n",
    "raw_labels = []\n",
    "for i, path in enumerate(PATHS):\n",
    "    path_data = pickle.load(open(path, \"rb\"))\n",
    "    path_data[\"labels\"][:] = i\n",
    "    raw_images.append(path_data[\"images\"])\n",
    "    raw_labels.append(path_data[\"labels\"])\n",
    "\n",
    "images = np.vstack(raw_images)[:,0:2,:,:]\n",
    "labels = np.hstack(raw_labels)\n",
    "\n",
    "fold_idx = list(range(len(labels)))\n",
    "random.shuffle(fold_idx)\n",
    "fold_idx = np.array_split(fold_idx, 5)\n",
    "min_len = len(labels)\n",
    "for fold in fold_idx:\n",
    "    if len(fold) < min_len:\n",
    "        min_len = len(fold)\n",
    "\n",
    "for i in range(len(fold_idx)):\n",
    "    if len(fold_idx[i]) > min_len:\n",
    "        fold_idx[i] = np.delete(fold_idx[i], 0)\n",
    "\n",
    "i = 0\n",
    "\n",
    "testing_images = images[fold_idx[i]]\n",
    "testing_labels = labels[fold_idx[i]]\n",
    "training_images = np.delete(images, fold_idx[i], axis=0)\n",
    "training_labels = np.delete(labels, fold_idx[i], axis=0)\n",
    "\n",
    "trainset = MacDataset(training_images, training_labels, \n",
    "                            transform=transforms)\n",
    "testset = MacDataset(testing_images, testing_labels,\n",
    "                            transform=transforms)\n",
    "\n",
    "train_sampler = equal_classes_sampler(trainset.labels)\n",
    "test_sampler = equal_classes_sampler(testset.labels)\n",
    "\n",
    "trainloader = DataLoader(trainset, batch_size=BATCH_SIZE, sampler=train_sampler,\n",
    "                        shuffle=False, num_workers=0)\n",
    "\n",
    "testloader = DataLoader(testset, batch_size=BATCH_SIZE, sampler=test_sampler,\n",
    "                        shuffle=False, num_workers=0) \n"
   ]
  },
  {
   "cell_type": "code",
   "execution_count": null,
   "metadata": {},
   "outputs": [],
   "source": [
    "print(trainloader)\n",
    "\n",
    "for batch, data in enumerate(trainloader): \n",
    "    print(data[0].shape, data[1].shape)\n",
    "    img, label = data\n",
    "    if batch < 2:\n",
    "        break"
   ]
  },
  {
   "cell_type": "code",
   "execution_count": null,
   "metadata": {},
   "outputs": [],
   "source": [
    "print(\"Using existing trained model\")\n",
    "net = torch.load('./model_fold_0')\n",
    "net.to(\"cpu\")\n",
    "net.eval()"
   ]
  },
  {
   "cell_type": "markdown",
   "metadata": {},
   "source": [
    "In the cell below we load some images from the test dataset and perform predictions."
   ]
  },
  {
   "cell_type": "code",
   "execution_count": null,
   "metadata": {},
   "outputs": [],
   "source": [
    "\n",
    "def imshow(img, transpose = True):\n",
    "    #img = img / 2 + 0.5     # unnormalize\n",
    "    npimg = img.numpy()\n",
    "    plt.imshow(np.transpose(npimg, (1, 2, 0)))\n",
    "    plt.show()\n",
    "\n",
    "dataiter = iter(testloader)\n",
    "images, labels = dataiter.next()\n",
    "\n",
    "# print images\n",
    "imshow(torchvision.utils.make_grid(images))\n",
    "print('GroundTruth: ', ' '.join('%5s' % labels[j].item() for j in range(4)))\n",
    "\n",
    "outputs = net(images.float())\n",
    "predicted = torch.argmax(outputs,1).to(torch.double)\n",
    "\n",
    "print('Predicted: ', ' '.join('%5s' % predicted[j].item()\n",
    "                              for j in range(4)))"
   ]
  },
  {
   "cell_type": "markdown",
   "metadata": {},
   "source": [
    "Let's choose a test image at index `ind` and apply some of our attribution algorithms on it."
   ]
  },
  {
   "cell_type": "code",
   "execution_count": null,
   "metadata": {},
   "outputs": [],
   "source": [
    "ind = 3\n",
    "\n",
    "input = images[ind].unsqueeze(0).float()\n",
    "input.requires_grad = True"
   ]
  },
  {
   "cell_type": "markdown",
   "metadata": {},
   "source": [
    "A generic function that will be used for calling `attribute` on attribution algorithm defined in input."
   ]
  },
  {
   "cell_type": "code",
   "execution_count": null,
   "metadata": {},
   "outputs": [],
   "source": [
    "def attribute_image_features(algorithm, input, **kwargs):\n",
    "    net.zero_grad()\n",
    "    tensor_attributions = algorithm.attribute(input,\n",
    "                                              target=int(labels[ind].item()),\n",
    "                                              **kwargs\n",
    "                                             )\n",
    "    \n",
    "    return tensor_attributions\n",
    "        "
   ]
  },
  {
   "cell_type": "markdown",
   "metadata": {},
   "source": [
    "Computes gradients with respect to class `ind` and transposes them for visualization purposes."
   ]
  },
  {
   "cell_type": "code",
   "execution_count": null,
   "metadata": {},
   "outputs": [],
   "source": [
    "saliency = Saliency(net)\n",
    "\n",
    "print(type(input), input.shape, type(labels[ind].item()))\n",
    "grads = saliency.attribute(input, target=int(labels[ind].item()))\n",
    "\n",
    "grads = grads.squeeze().cpu().detach().numpy()"
   ]
  },
  {
   "cell_type": "markdown",
   "metadata": {},
   "source": [
    "Applies integrated gradients attribution algorithm on test image. Integrated Gradients computes the integral of the gradients of the output prediction for the class index `ind` with respect to the input image pixels. More details about integrated gradients can be found in the original paper: https://arxiv.org/abs/1703.01365"
   ]
  },
  {
   "cell_type": "code",
   "execution_count": null,
   "metadata": {},
   "outputs": [],
   "source": [
    "ig = IntegratedGradients(net)\n",
    "print(input.shape, (input.float() * 0).shape)\n",
    "attr_ig, delta = attribute_image_features(ig, input, baselines=input * 0, return_convergence_delta=True)\n",
    "attr_ig = attr_ig.squeeze(0).cpu().detach().numpy()\n",
    "attr_ig = attr_ig.squeeze(0)\n",
    "print('Approximation delta: ', abs(delta))"
   ]
  },
  {
   "cell_type": "markdown",
   "metadata": {},
   "source": [
    "Below we demonstrate how to use integrated gradients and noise tunnel with smoothgrad square option on the test image. Noise tunnel with `smoothgrad square` option adds gaussian noise with a standard deviation of `stdevs=0.2` to the input image `nt_samples` times, computes the attributions for `nt_samples` images and returns the mean of the squared attributions across `nt_samples` images."
   ]
  },
  {
   "cell_type": "code",
   "execution_count": null,
   "metadata": {},
   "outputs": [],
   "source": [
    "ig = IntegratedGradients(net)\n",
    "nt = NoiseTunnel(ig)\n",
    "attr_ig_nt = attribute_image_features(nt, input, baselines=input * 0, nt_type='smoothgrad_sq',\n",
    "                                      nt_samples=10, stdevs=.5)\n",
    "attr_ig_nt = attr_ig_nt.squeeze(0).cpu().detach().numpy()\n",
    "attr_ig_nt = attr_ig_nt.squeeze(0)"
   ]
  },
  {
   "cell_type": "markdown",
   "metadata": {},
   "source": [
    "Applies DeepLift on test image. Deeplift assigns attributions to each input pixel by looking at the differences of output and its reference in terms of the differences of the input from the reference."
   ]
  },
  {
   "cell_type": "code",
   "execution_count": null,
   "metadata": {},
   "outputs": [],
   "source": [
    "dl = DeepLift(net)\n",
    "attr_dl = attribute_image_features(dl, input, baselines=input * 0)\n",
    "attr_dl = attr_dl.squeeze(0).cpu().detach().numpy()\n",
    "attr_dl = attr_dl.squeeze(0)"
   ]
  },
  {
   "cell_type": "markdown",
   "metadata": {},
   "source": [
    "In the cell below we will visualize the attributions for `Saliency Maps`, `DeepLift`, `Integrated Gradients` and `Integrated Gradients with SmoothGrad`."
   ]
  },
  {
   "cell_type": "code",
   "execution_count": null,
   "metadata": {},
   "outputs": [],
   "source": [
    "print('Original Image')\n",
    "print('Predicted:', predicted[ind], \n",
    "      ' Probability:', torch.max(F.softmax(outputs, 1)).item())\n",
    "\n",
    "original_image = np.transpose((images[ind].cpu().detach().numpy() / 2) + 0.5, (1, 2, 0))\n",
    "plt.rcParams[\"figure.figsize\"] = (20,3)\n",
    "plt.figure()\n",
    "#subplot(r,c) provide the no. of rows and columns\n",
    "f, axarr = plt.subplots(1,5) \n",
    "\n",
    "# use the created array to output your multiple images. In this case I have stacked 4 images vertically\n",
    "axarr[0].imshow(original_image)\n",
    "axarr[1].imshow(grads)\n",
    "axarr[2].imshow(attr_ig)\n",
    "axarr[3].imshow(attr_ig_nt)\n",
    "axarr[4].imshow(attr_dl)\n",
    "\n",
    "axarr[0].title.set_text(\"Original_image\")\n",
    "axarr[1].title.set_text(\"Overlayed Gradient Magnitudes\")\n",
    "axarr[2].title.set_text(\"Overlayed Integrated Gradients\")\n",
    "axarr[3].title.set_text(\"Overlayed Integrated Gradients \\n with SmoothGrad Squared\")\n",
    "axarr[4].title.set_text(\"Overlayed DeepLift\")\n",
    "plt.colorbar()\n",
    "\n",
    "suffix = str(uuid.uuid4())\n",
    "predicted_class = str(int(predicted[ind].item()))\n",
    "out_path = predicted_class + \"_\" + suffix\n",
    "plt.savefig(out_path)"
   ]
  }
 ],
 "metadata": {
  "interpreter": {
   "hash": "aab8795380b30e625f05b9875eb19e47dede7d17a6e02ba200312899d03cb9f0"
  },
  "kernelspec": {
   "display_name": "Python 3.9.5 64-bit ('torchenv': conda)",
   "name": "python3"
  },
  "language_info": {
   "codemirror_mode": {
    "name": "ipython",
    "version": 3
   },
   "file_extension": ".py",
   "mimetype": "text/x-python",
   "name": "python",
   "nbconvert_exporter": "python",
   "pygments_lexer": "ipython3",
   "version": "3.9.5"
  }
 },
 "nbformat": 4,
 "nbformat_minor": 2
}
