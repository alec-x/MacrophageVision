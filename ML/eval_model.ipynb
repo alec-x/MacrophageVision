{
 "cells": [
  {
   "cell_type": "markdown",
   "metadata": {},
   "source": [
    "# CNN Model Figure Generation"
   ]
  },
  {
   "cell_type": "markdown",
   "metadata": {},
   "source": [
    "Generate plots from data recorded during training/testing"
   ]
  },
  {
   "cell_type": "code",
   "execution_count": null,
   "metadata": {},
   "outputs": [],
   "source": [
    "import matplotlib.pyplot as plt\n",
    "%matplotlib inline\n",
    "import numpy as np\n",
    "import pickle\n",
    "from utils import *\n",
    "\n",
    "import torch\n",
    "from torch.utils.data import DataLoader"
   ]
  },
  {
   "cell_type": "markdown",
   "metadata": {},
   "source": [
    "# Testing Accuracy"
   ]
  },
  {
   "cell_type": "markdown",
   "metadata": {},
   "source": [
    "# Plot Testing/Training Error Curve\n",
    "Plot the training of the first fold from csv file"
   ]
  },
  {
   "cell_type": "code",
   "execution_count": null,
   "metadata": {},
   "outputs": [],
   "source": [
    "import csv\n",
    "# https://stackoverflow.com/questions/14091387/creating-a-dictionary-from-a-csv-file\n",
    "testing_results = pickle.load(open('curr_run/model_test_results.p', \"rb\"))\n",
    "training_results = pickle.load(open('curr_run/model_train_hist.p', \"rb\"))\n",
    "\n",
    "print(len(training_results))\n",
    "\n",
    "\"\"\"\n",
    "result = {}\n",
    "for row in reader:\n",
    "    for column, value in row.items():  # consider .iteritems() for Python 2\n",
    "        result.setdefault(column, []).append(float(value))\n",
    "\n",
    "result[\"epoch\"] = [int(i) for i in result[\"epoch\"]]\n",
    "\n",
    "plt.plot(result[\"epoch\"], result[\"train_loss\"], result[\"test_loss\"])\n",
    "plt.title(\"Average Loss Per Epoch\")\n",
    "plt.legend([\"training\", \"testing\"])\n",
    "plt.show()\n",
    "\n",
    "plt.plot(result[\"epoch\"], result[\"train_acc\"], result[\"test_acc\"])\n",
    "plt.ylim([0.6,1])\n",
    "plt.title(\"Average Accuracy Per Epoch\")\n",
    "plt.legend([\"training\", \"testing\"])\n",
    "plt.show()\n",
    "\"\"\""
   ]
  },
  {
   "cell_type": "markdown",
   "metadata": {},
   "source": [
    "# Confusion Matrix Plotting\n",
    "\n",
    "https://stackoverflow.com/questions/53290306/confusion-matrix-and-test-accuracy-for-pytorch-transfer-learning-tutorial"
   ]
  },
  {
   "cell_type": "code",
   "execution_count": null,
   "metadata": {},
   "outputs": [],
   "source": [
    "data = pickle.load(open(\"curr_run/model_test_results.p\", \"rb\"))\n",
    "confusion_matrices = []\n",
    "matrices = []\n",
    "test_accuracies = []\n",
    "num_folds = len(data)\n",
    "for fold in range(num_folds):\n",
    "    curr_data = list(zip(*data[fold]))\n",
    "    data[fold] = {}\n",
    "    data[fold][\"true\"] = curr_data[0]\n",
    "    data[fold][\"pred\"] = curr_data[1]\n",
    "\n",
    "    labels = data[fold][\"true\"]\n",
    "    labels = torch.flatten(torch.stack(labels))\n",
    "\n",
    "    outputs = data[fold][\"pred\"]\n",
    "    num_classes = len(outputs[0][0])\n",
    "    outputs = torch.flatten(torch.stack(outputs), end_dim=1)\n",
    "    outputs = torch.argmax(outputs, 1)\n",
    "    outputs = np.array(outputs)\n",
    "\n",
    "    confusion_matrices.append(np.zeros((num_classes, num_classes))) \n",
    "\n",
    "    for t, p in zip(labels, outputs):\n",
    "            confusion_matrices[fold][int(t), int(p)] += 1\n",
    "    \n",
    "    matrix = np.array(confusion_matrices[fold])\n",
    "    matrix = np.array([i/sum(i) for i in matrix])\n",
    "    matrices.append(matrix)\n",
    "\n",
    "    test_accuracy = 0\n",
    "    for i in range(num_classes):\n",
    "        test_accuracy += confusion_matrices[fold][i,i]\n",
    "    test_accuracy = test_accuracy / sum(confusion_matrices[fold].flatten())\n",
    "    test_accuracies.append(test_accuracy)\n",
    "\n",
    "for i, accuracy in enumerate(test_accuracies):\n",
    "    print(f\"Fold: {i}, Test Accuracy: {accuracy:>.2%}\")\n",
    "\n",
    "print(print(f\"Average: Test Accuracy: {sum(test_accuracies)/num_folds:>.2%}\"))"
   ]
  },
  {
   "cell_type": "code",
   "execution_count": null,
   "metadata": {},
   "outputs": [],
   "source": [
    "import seaborn as sn\n",
    "import pandas as pd\n",
    "\n",
    "axis_labels = [\"alveolar\", \"marrow\", \"monocyte\"]\n",
    "num_classes = len(axis_labels)\n",
    "matrix_sum = np.zeros_like(matrices[0])\n",
    "for mat in matrices:\n",
    "    matrix_sum += mat\n",
    "matrix_sum /= len(matrices)\n",
    "\n",
    "matrix_df = pd.DataFrame(matrix_sum, index=axis_labels, columns=axis_labels)\n",
    "sn.set(font_scale=1.4) # for label size\n",
    "sn.heatmap(matrix_df, annot=True, fmt='.2%') # font size\n",
    "plt.title('Aggregate Results of 5-Fold Cross Validation')\n",
    "plt.show()"
   ]
  },
  {
   "cell_type": "markdown",
   "metadata": {},
   "source": [
    "# Reciever Operator Characteristic Curve (ROC)\n"
   ]
  },
  {
   "cell_type": "code",
   "execution_count": null,
   "metadata": {},
   "outputs": [],
   "source": [
    "from sklearn.preprocessing import label_binarize\n",
    "from sklearn.metrics import roc_curve, auc\n",
    "\n",
    "roc_data = pickle.load(open(\"model_roc_data.p\", \"rb\"))\n",
    "\n",
    "labels = roc_data[0][\"true\"]\n",
    "labels = torch.flatten(torch.stack(labels))\n",
    "labels_b = label_binarize(labels, classes=[0,1,2])\n",
    "\n",
    "outputs = roc_data[0][\"outputs\"]\n",
    "outputs = torch.flatten(torch.stack(outputs), end_dim=1)\n",
    "outputs = np.array(torch.softmax(outputs, 1))\n",
    "\n",
    "fpr = dict()\n",
    "tpr = dict()\n",
    "roc_auc = dict()\n",
    "\n",
    "for i in range(num_classes):\n",
    "    fpr[i], tpr[i], _ = roc_curve(labels_b[:, i], outputs[:, i])\n",
    "    roc_auc[i] = auc(fpr[i], tpr[i])\n",
    "\n",
    "fpr[\"micro\"], tpr[\"micro\"], _ = roc_curve(labels_b.ravel(), outputs.ravel())\n",
    "roc_auc[\"micro\"] = auc(fpr[\"micro\"], tpr[\"micro\"])"
   ]
  },
  {
   "cell_type": "code",
   "execution_count": null,
   "metadata": {},
   "outputs": [],
   "source": [
    "plt.figure()\n",
    "lw = 2\n",
    "plt.plot(fpr[0], tpr[0], color='darkorange',\n",
    "         lw=lw, label='alveolar (area = %0.4f)' % roc_auc[0])\n",
    "plt.plot(fpr[1], tpr[1], color='red',\n",
    "         lw=lw, label='marrow (area = %0.4f)' % roc_auc[1])\n",
    "plt.plot(fpr[2], tpr[2], color='green',\n",
    "         lw=lw, label='monocyte (area = %0.4f)' % roc_auc[2])                  \n",
    "plt.plot([0, 1], [0, 1], color='navy', lw=lw, linestyle='--')\n",
    "plt.xlim([0.0, 1.0])\n",
    "plt.ylim([0.9, 1.05])\n",
    "plt.xlabel('False Positive Rate')\n",
    "plt.ylabel('True Positive Rate')\n",
    "plt.title('Receiver operating characteristic of 3-class CNN')\n",
    "plt.legend(loc=\"lower right\")\n",
    "plt.show()"
   ]
  },
  {
   "cell_type": "markdown",
   "metadata": {},
   "source": [
    "# T-SNE "
   ]
  },
  {
   "cell_type": "code",
   "execution_count": null,
   "metadata": {},
   "outputs": [],
   "source": [
    "print(\"Using existing trained model\")\n",
    "net = torch.load('./models/model_fold_0')\n",
    "net.to(\"cpu\")\n",
    "net.eval()\n",
    "\n",
    "test_data = pickle.load(open(\"./models/test_data_fold_0\", \"rb\"))\n",
    "test_sampler = equal_classes_sampler(test_data.labels)\n",
    "\n",
    "dataloader_test = DataLoader(test_data, batch_size=len(test_data), sampler=test_sampler,\n",
    "                        shuffle=False, num_workers=0)  "
   ]
  },
  {
   "cell_type": "code",
   "execution_count": null,
   "metadata": {},
   "outputs": [],
   "source": [
    "\n",
    "activation = {}\n",
    "def get_activation(name):\n",
    "    def hook(model, input, output):\n",
    "        activation[name] = output.detach()\n",
    "    return hook\n",
    "\n",
    "net.fc2.register_forward_hook(get_activation('fc2'))\n",
    "X = None\n",
    "y = None\n",
    "for batch, data in enumerate(dataloader_test):\n",
    "    X, y = data[0][:,[0],:,:], data[1]\n",
    "    # Compute prediction error\n",
    "    pred = net(X.float())\n",
    "\n"
   ]
  },
  {
   "cell_type": "code",
   "execution_count": null,
   "metadata": {},
   "outputs": [],
   "source": [
    "\n",
    "from sklearn.manifold import TSNE\n",
    "import seaborn as sns\n",
    "fc2_activation = np.array(activation['fc2'])\n",
    "\n",
    "TSNE = TSNE(n_components=2, perplexity=50, n_iter=10000, learning_rate=100)\n",
    "\n",
    "tsne_results = TSNE.fit_transform(fc2_activation)\n",
    "\n",
    "df_tsne = pd.DataFrame(tsne_results, columns=['t-sne-one', 't-sne-two'])\n",
    "phenotype = {0: \"alveolar\",\n",
    "             1: \"marrow\",\n",
    "             2: \"monocyte\"}\n",
    "df_tsne['label'] = [phenotype[int(ele)] for ele in y] \n",
    "\n",
    "plt.figure(figsize=(10,10))\n",
    "sns.scatterplot(\n",
    "    x=\"t-sne-one\", y=\"t-sne-two\",\n",
    "    hue=\"label\",\n",
    "    palette=sns.color_palette(\"hls\", 3),\n",
    "    data=df_tsne,\n",
    "    legend=\"full\",\n",
    "    alpha=0.5\n",
    ")\n",
    "plt.show()\n"
   ]
  }
 ],
 "metadata": {
  "interpreter": {
   "hash": "aab8795380b30e625f05b9875eb19e47dede7d17a6e02ba200312899d03cb9f0"
  },
  "kernelspec": {
   "display_name": "Python 3.9.5 64-bit ('torchenv': conda)",
   "name": "python3"
  },
  "language_info": {
   "codemirror_mode": {
    "name": "ipython",
    "version": 3
   },
   "file_extension": ".py",
   "mimetype": "text/x-python",
   "name": "python",
   "nbconvert_exporter": "python",
   "pygments_lexer": "ipython3",
   "version": "3.9.5"
  }
 },
 "nbformat": 4,
 "nbformat_minor": 2
}
