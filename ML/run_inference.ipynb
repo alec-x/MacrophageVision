{
 "cells": [
  {
   "cell_type": "code",
   "execution_count": null,
   "source": [
    "import matplotlib.pyplot as plt\r\n",
    "%matplotlib inline\r\n",
    "import numpy as np\r\n",
    "import matplotlib.pyplot as plt\r\n",
    "import numpy as np"
   ],
   "outputs": [],
   "metadata": {}
  },
  {
   "cell_type": "markdown",
   "source": [
    "# Load Trained Model"
   ],
   "metadata": {}
  },
  {
   "cell_type": "code",
   "execution_count": null,
   "source": [
    "import torch\r\n",
    "model_path = './no_monocyte/model_fold_0'\r\n",
    "net = torch.load(model_path)\r\n",
    "net.to(\"cpu\")\r\n",
    "net.eval()"
   ],
   "outputs": [],
   "metadata": {}
  },
  {
   "cell_type": "code",
   "execution_count": null,
   "source": [
    "PATHS = [r\"..\\data\\processed\\marrow.pickle\", \r\n",
    "         r\"..\\data\\processed\\monocyte.pickle\",\r\n",
    "         r\"..\\data\\processed\\alveolar.pickle\"]\r\n",
    "         \r\n",
    "NUM_WORKERS = 2\r\n",
    "BATCH_SIZE = 6"
   ],
   "outputs": [],
   "metadata": {}
  },
  {
   "cell_type": "code",
   "execution_count": null,
   "source": [
    "import torchvision.transforms as transforms\r\n",
    "from utils import *\r\n",
    "transforms = transforms.Compose([\r\n",
    "    standardize_input()\r\n",
    "    ])"
   ],
   "outputs": [],
   "metadata": {}
  },
  {
   "cell_type": "code",
   "execution_count": null,
   "source": [
    "from torch.utils.data import DataLoader\r\n",
    "import pickle\r\n",
    "from MacDataset import MacDataset\r\n",
    "raw_images = []\r\n",
    "raw_labels = []\r\n",
    "for i, path in enumerate(PATHS):\r\n",
    "    path_data = pickle.load(open(path, \"rb\"))\r\n",
    "    path_data[\"labels\"][:] = i\r\n",
    "    raw_images.append(path_data[\"images\"])\r\n",
    "    raw_labels.append(path_data[\"labels\"])\r\n",
    "\r\n",
    "images = np.vstack(raw_images)[:,[0],:,:]\r\n",
    "labels = np.hstack(raw_labels)\r\n",
    "\r\n",
    "trainset = MacDataset(images, labels, \r\n",
    "                            transform=transforms)\r\n",
    "train_sampler = equal_classes_sampler(trainset.labels)\r\n",
    "trainloader = DataLoader(trainset, batch_size=BATCH_SIZE, sampler=train_sampler,\r\n",
    "                        shuffle=False, num_workers=0)"
   ],
   "outputs": [],
   "metadata": {}
  },
  {
   "cell_type": "code",
   "execution_count": null,
   "source": [
    "import torchvision\r\n",
    "def imshow(img, transpose = True):\r\n",
    "    #img = img / 2 + 0.5     # unnormalize\r\n",
    "    npimg = img.numpy()\r\n",
    "    plt.figure(figsize = (11,4))\r\n",
    "    plt.imshow(np.transpose(npimg, (1, 2, 0)))\r\n",
    "    plt.show()\r\n",
    "\r\n",
    "dataiter = iter(trainloader)\r\n",
    "images, labels = dataiter.next()\r\n",
    "\r\n",
    "# print images\r\n",
    "imshow(torchvision.utils.make_grid(images))\r\n",
    "\r\n",
    "l_names = [\"marrow\", \"monocyte\", \"alveolar\"]\r\n",
    "print('Ground Truth : ', ' '.join('%10s' % l_names[int(labels[j].item())] \r\n",
    "                            for j in range(BATCH_SIZE)))\r\n",
    "\r\n",
    "pred_names = [\"alveolar\", \"marrow\"]\r\n",
    "outputs = net(images.float())\r\n",
    "predicted = torch.argmax(outputs,1).to(torch.double)\r\n",
    "probability = torch.softmax(outputs, 1).detach().numpy()\r\n",
    "\r\n",
    "print('Predicted    : ', ' '.join('%10s' % pred_names[int(predicted[j].item())] \r\n",
    "                            for j in range(BATCH_SIZE)))\r\n",
    "print('Alveolar prob: ', ' '.join('%10.5f' % probability[j][0].item()\r\n",
    "                            for j in range(BATCH_SIZE)))\r\n",
    "\r\n",
    "print('Marrow prob  : ', ' '.join('%10.5f' % probability[j][1].item()\r\n",
    "                            for j in range(BATCH_SIZE)))                              "
   ],
   "outputs": [],
   "metadata": {}
  }
 ],
 "metadata": {
  "orig_nbformat": 4,
  "language_info": {
   "name": "python",
   "version": "3.7.10",
   "mimetype": "text/x-python",
   "codemirror_mode": {
    "name": "ipython",
    "version": 3
   },
   "pygments_lexer": "ipython3",
   "nbconvert_exporter": "python",
   "file_extension": ".py"
  },
  "kernelspec": {
   "name": "python3",
   "display_name": "Python 3.7.10 64-bit ('MacVis2': conda)"
  },
  "interpreter": {
   "hash": "491765e01fa3dfc6c98fe3165a4d0b07724f880971dca49810d2604a1e334570"
  }
 },
 "nbformat": 4,
 "nbformat_minor": 2
}