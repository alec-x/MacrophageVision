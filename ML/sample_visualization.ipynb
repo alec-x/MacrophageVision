{
 "cells": [
  {
   "cell_type": "code",
   "execution_count": null,
   "metadata": {},
   "outputs": [],
   "source": [
    "PATHS = [r\"..\\data\\processed\\kerryn_dec\\M0.pickle\",\n",
    "         r\"..\\data\\processed\\kerryn_dec\\M1.pickle\",\n",
    "         r\"..\\data\\processed\\kerryn_dec\\M2.pickle\"]\n",
    "LABELS = [\"M0\", \"M1\", \"M2\"]\n",
    "APPLY_TRANSFORMS = True\n",
    "NUM_IMAGES = 50\n",
    "OUT_DIR = \"figs\""
   ]
  },
  {
   "cell_type": "code",
   "execution_count": null,
   "metadata": {},
   "outputs": [],
   "source": [
    "import matplotlib.pyplot as plt\n",
    "%matplotlib inline\n",
    "import numpy as np\n",
    "import pickle\n",
    "from utils import *\n",
    "\n",
    "import torch\n",
    "from torch.utils.data import DataLoader, WeightedRandomSampler\n",
    "from torch import nn\n",
    "import torch.nn.functional as F\n",
    "\n",
    "import torchvision\n",
    "import torchvision.transforms as transforms\n",
    "import torchvision.transforms.functional as TF\n",
    "\n",
    "from MacDataset import MacDataset\n",
    "import matplotlib.pyplot as plt\n",
    "import numpy as np\n",
    "import random"
   ]
  },
  {
   "cell_type": "code",
   "execution_count": null,
   "metadata": {},
   "outputs": [],
   "source": [
    "transforms = transforms.Compose([\n",
    "    standardize_input()\n",
    "    ])"
   ]
  },
  {
   "cell_type": "code",
   "execution_count": null,
   "metadata": {},
   "outputs": [],
   "source": [
    "raw_images = []\n",
    "raw_labels = []\n",
    "for i, path in enumerate(PATHS):\n",
    "    path_data = pickle.load(open(path, \"rb\"))\n",
    "    path_data[\"labels\"][:] = i\n",
    "    raw_images.append(path_data[\"images\"])\n",
    "    raw_labels.append(path_data[\"labels\"])\n",
    "\n",
    "min_len = sum([len(label) for label in raw_labels])\n",
    "balanced_images = []\n",
    "balanced_labels = []\n",
    "for i in range(len(raw_labels)):\n",
    "    num_samples = len(raw_labels[i])\n",
    "    if  num_samples < min_len:\n",
    "        min_len = num_samples\n",
    "\n",
    "for i in range(len(raw_labels)):\n",
    "    num_samples = len(raw_labels[i])\n",
    "    raw_idx = list(range(num_samples))\n",
    "    random.shuffle(raw_idx)\n",
    "    raw_idx = raw_idx[:min_len]\n",
    "    balanced_images.append(raw_images[i][raw_idx])\n",
    "    balanced_labels.append(raw_labels[i][raw_idx])\n",
    "\n",
    "images = np.vstack(balanced_images)[:,0:2,:,:]\n",
    "labels = np.hstack(balanced_labels)\n"
   ]
  },
  {
   "cell_type": "code",
   "execution_count": null,
   "metadata": {},
   "outputs": [],
   "source": [
    "data = None\n",
    "if APPLY_TRANSFORMS:\n",
    "    data = MacDataset(images, labels, transform=transforms)\n",
    "else:\n",
    "    data = MacDataset(images, labels)\n",
    "        \n",
    "sampler = equal_classes_sampler(data.labels)       \n",
    "dataloader = DataLoader(data, batch_size=1, sampler=sampler,\n",
    "                        shuffle=False, num_workers=0)       \n",
    "dataiter = iter(dataloader)                                          "
   ]
  },
  {
   "cell_type": "code",
   "execution_count": null,
   "metadata": {},
   "outputs": [],
   "source": [
    "import os\n",
    "os.makedirs(OUT_DIR, exist_ok=True) \n",
    "for i in range(len(dataiter)):\n",
    "    image, label = dataiter.next()\n",
    "    image_1 = np.array(image[0][0])\n",
    "    label = int(label.item())\n",
    "    plt.imshow(image_1)\n",
    "    plt.axis('off')\n",
    "    plt.savefig(OUT_DIR + \"/\" + LABELS[label] + \"_\" + str(i) + \"_\" + \"BF\", bbox_inches='tight')\n",
    "    image_2 = np.array(image[0][1])\n",
    "    plt.imshow(image_2)\n",
    "    plt.axis('off')\n",
    "    plt.savefig(OUT_DIR + \"/\" + LABELS[label] + \"_\" + str(i) + \"_\" + \"Mito\", bbox_inches='tight')\n",
    "\n",
    "    if i == NUM_IMAGES:\n",
    "        break"
   ]
  }
 ],
 "metadata": {
  "interpreter": {
   "hash": "aab8795380b30e625f05b9875eb19e47dede7d17a6e02ba200312899d03cb9f0"
  },
  "kernelspec": {
   "display_name": "Python 3.9.5 64-bit ('torchenv': conda)",
   "name": "python3"
  },
  "language_info": {
   "codemirror_mode": {
    "name": "ipython",
    "version": 3
   },
   "file_extension": ".py",
   "mimetype": "text/x-python",
   "name": "python",
   "nbconvert_exporter": "python",
   "pygments_lexer": "ipython3",
   "version": "3.9.5"
  },
  "orig_nbformat": 4
 },
 "nbformat": 4,
 "nbformat_minor": 2
}
