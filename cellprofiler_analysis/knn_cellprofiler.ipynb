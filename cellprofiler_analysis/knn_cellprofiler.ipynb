{
 "cells": [
  {
   "cell_type": "markdown",
   "metadata": {},
   "source": [
    "# Use CellProfiler Features Extracted to Construct a knn Network"
   ]
  },
  {
   "cell_type": "markdown",
   "metadata": {},
   "source": [
    "## Import data and split into training/test set"
   ]
  },
  {
   "cell_type": "code",
   "execution_count": null,
   "metadata": {},
   "outputs": [],
   "source": [
    "import pandas as pd\n",
    "import numpy as np\n",
    "\n",
    "raw_data = pd.read_csv(r\"..\\data\\processed\\cellprofiler_data.csv\")\n",
    "data = raw_data.drop([\"Phenotype\", \"ImageNumber\"], axis=1)\n",
    "labels = raw_data[\"Phenotype\"]\n",
    "data = data.to_numpy()\n",
    "labels = labels.to_numpy()\n",
    "phenotype = {\"alveolar\": 0,\n",
    "             \"marrow\": 1,\n",
    "             \"monocyte\": 2}\n",
    "labels = [phenotype[label] for label in labels]\n",
    "\n",
    "phenotype = {\"TR\": 0,\n",
    "             \"BMD\": 1,\n",
    "             \"Monocyte\": 2}\n",
    "\n",
    "from random import shuffle\n",
    "train_index = [[] for _ in range(len(phenotype))] \n",
    "test_index = [[] for _ in range(len(phenotype))]\n",
    "\n",
    "[train_index[labels[i]].append(i) for i in range(len(labels))]\n",
    "\n",
    "for i in range(len(train_index)):\n",
    "    tmp = train_index[i]\n",
    "    shuffle(tmp)\n",
    "\n",
    "    test_len = int(len(tmp)/5)\n",
    "    test_index[i].extend(tmp[:test_len])\n",
    "    train_index[i] = tmp[test_len:]\n",
    "\n",
    "tmp = []\n",
    "[tmp.extend(inds) for inds in train_index]\n",
    "train_index = tmp\n",
    "\n",
    "train_samples = np.stack([data[ind] for ind in train_index])\n",
    "train_labels = np.stack([labels[ind] for ind in train_index])\n",
    "\n",
    "tmp = []\n",
    "[tmp.extend(inds) for inds in test_index]\n",
    "test_index = tmp\n",
    "\n",
    "test_samples = np.stack([data[ind] for ind in test_index])\n",
    "test_labels = np.stack([labels[ind] for ind in test_index])"
   ]
  },
  {
   "cell_type": "markdown",
   "metadata": {},
   "source": [
    "## PCA of data"
   ]
  },
  {
   "cell_type": "code",
   "execution_count": null,
   "metadata": {},
   "outputs": [],
   "source": [
    "from sklearn.decomposition import PCA\n",
    "from sklearn.preprocessing import StandardScaler\n",
    "\n",
    "sc = StandardScaler()\n",
    "sc.fit(train_samples)\n",
    "std_data = sc.transform(train_samples)\n",
    "std_test_data = sc.transform(test_samples)\n",
    "\n",
    "num_comp = 2\n",
    "\n",
    "pca = PCA(n_components=num_comp)\n",
    "pca.fit(std_data)\n",
    "pca_result = pca.transform(std_data)\n",
    "\n",
    "graph_data = pd.DataFrame()\n",
    "graph_data['pca-one'] = pca_result[:,0]\n",
    "graph_data['pca-two'] = pca_result[:,1] \n",
    "#graph_data['pca-three'] = pca_result[:,2]  \n",
    "\n",
    "reverse_pheno = {v: k for k, v in phenotype.items()}\n",
    "\n",
    "graph_data['y'] = [reverse_pheno[label] for label in train_labels]\n",
    "\n",
    "\n",
    "print('Explained variation per principal component: {}'.format(pca.explained_variance_ratio_))\n",
    "\n",
    "import seaborn as sns\n",
    "from matplotlib import pyplot as plt\n",
    "plt.figure(figsize=(10,10))\n",
    "sns.scatterplot(\n",
    "    x=\"pca-one\", y=\"pca-two\",\n",
    "    hue=\"y\",\n",
    "    palette=sns.color_palette(\"hls\", 3),\n",
    "    data=graph_data,\n",
    "    legend=\"full\",\n",
    "    alpha=0.3\n",
    ")\n",
    "plt.show()"
   ]
  },
  {
   "cell_type": "markdown",
   "metadata": {},
   "source": [
    "## T-SNE of Data"
   ]
  },
  {
   "cell_type": "code",
   "execution_count": null,
   "metadata": {},
   "outputs": [],
   "source": [
    "from sklearn.manifold import TSNE\n",
    "\n",
    "TSNE = TSNE(n_components=2, perplexity=50, n_iter=5000, learning_rate=200)\n",
    "\n",
    "tsne_results = TSNE.fit_transform(std_data)"
   ]
  },
  {
   "cell_type": "code",
   "execution_count": null,
   "metadata": {},
   "outputs": [],
   "source": [
    "# visualize\n",
    "df_tsne = pd.DataFrame(tsne_results, columns=['t-sne-one', 't-sne-two'])\n",
    "df_tsne['label'] = [reverse_pheno[label] for label in train_labels]\n",
    "\n",
    "plt.figure(figsize=(10,10))\n",
    "sns.scatterplot(\n",
    "    x=\"t-sne-one\", y=\"t-sne-two\",\n",
    "    hue=\"label\",\n",
    "    palette=sns.color_palette(\"hls\", 3),\n",
    "    data=df_tsne,\n",
    "    legend=\"full\",\n",
    "    alpha=0.5\n",
    ")\n",
    "plt.show()"
   ]
  },
  {
   "cell_type": "markdown",
   "metadata": {},
   "source": [
    "## Confusion Matrix Graphing Function "
   ]
  },
  {
   "cell_type": "code",
   "execution_count": null,
   "metadata": {},
   "outputs": [],
   "source": [
    "def confusion_matrix(out, test_labels):\n",
    "    num_classes = max(out) + 1\n",
    "\n",
    "    confusion_matrix = np.zeros((num_classes, num_classes))\n",
    "\n",
    "    for t, p in zip(out, test_labels):\n",
    "        confusion_matrix[int(t), int(p)] += 1\n",
    "\n",
    "    matrix = np.array(confusion_matrix)\n",
    "    matrix = np.array([i/sum(i) for i in matrix])\n",
    "\n",
    "    test_accuracy = 0\n",
    "    for i in range(num_classes):\n",
    "        test_accuracy += confusion_matrix[i,i]\n",
    "    test_accuracy = test_accuracy / sum(confusion_matrix.flatten())\n",
    "    return matrix, test_accuracy\n",
    "\n",
    "def show_matrix(matrix, labels, title):\n",
    "\n",
    "    matrix_df = pd.DataFrame(matrix, index=labels, columns=labels)\n",
    "    sn.set(font_scale=1.4) # for label size\n",
    "    sn.heatmap(matrix_df, annot=True, fmt='.2%') # font size\n",
    "    plt.title(title)\n",
    "    plt.show()\n",
    "    "
   ]
  },
  {
   "cell_type": "markdown",
   "metadata": {},
   "source": [
    "## Visualization of Boundaries in PCA\n",
    "https://stackoverflow.com/questions/56153726/plot-k-nearest-neighbor-graph-with-8-features"
   ]
  },
  {
   "cell_type": "code",
   "execution_count": null,
   "metadata": {},
   "outputs": [],
   "source": [
    "import seaborn as sn\n",
    "import pandas as pd\n",
    "from sklearn.neighbors import KNeighborsClassifier\n",
    "import matplotlib.ticker as ticker\n",
    "from matplotlib.colors import ListedColormap\n",
    "\n",
    "relevant_indices = np.where(train_labels != phenotype[\"Monocyte\"])[0]\n",
    "knn_pca_graph_input = pca_result[relevant_indices]\n",
    "knn_pca_graph_output = train_labels[relevant_indices]\n",
    "\n",
    "knn_pca_graph = KNeighborsClassifier(n_neighbors=30)\n",
    "knn_pca_graph.fit(knn_pca_graph_input, knn_pca_graph_output)\n",
    "\n",
    "x_min, x_max = pca_result[:, 0].min() - 1, pca_result[:, 0].max() + 1\n",
    "y_min, y_max = pca_result[:, 1].min() - 1, pca_result[:, 1].max() + 1\n",
    "\n",
    "mesh_density = 0.01\n",
    "x_grid, y_grid = np.meshgrid(np.arange(x_min, x_max), np.arange(y_min, y_max))\n",
    "Z = knn_pca_graph.predict(np.c_[x_grid.ravel(), y_grid.ravel()])\n",
    "Z = Z.reshape(x_grid.shape)\n",
    "\n",
    "fig, ax = plt.subplots(figsize=(10,10))\n",
    "cmap_light = ListedColormap(['#ffd5d1', '#c4ffcf'])\n",
    "cmap_bold  = ['#ed210e', '#43de64', '#7f78ff']\n",
    "plt.pcolormesh(x_grid,y_grid, Z, cmap=cmap_light, shading=\"auto\")\n",
    "for i, pheno in enumerate([\"TR\", \"BMD\", \"Monocyte\"]):\n",
    "    ind = np.where(train_labels == phenotype[pheno])[0]\n",
    "    ax.scatter(pca_result[ind, 0], pca_result[ind, 1], c=cmap_bold[i], label=pheno,\n",
    "               s=25, alpha=0.3, edgecolor=\"k\")\n",
    "plt.xlabel(\"pca-one\")\n",
    "plt.ylabel(\"pca-two\")\n",
    "plt.legend()\n",
    "#plt.legend()\n",
    "plt.show()\n",
    "\n",
    "out = list(knn_pca_graph.predict(pca_result))\n",
    "out.append(2)\n",
    "matrix, accuracy = confusion_matrix(out, train_labels)\n",
    "\n",
    "print(f\"accuracy of knn: {accuracy:>0.2%}\")\n",
    "\n",
    "axis_labels = [\"TR\", \"BMD\", \"monocyte\"]\n",
    "\n",
    "show_matrix(matrix, axis_labels, 'PCA Gating')\n",
    "\n"
   ]
  },
  {
   "cell_type": "markdown",
   "metadata": {},
   "source": [
    "# KNN With Standardized Raw Data"
   ]
  },
  {
   "cell_type": "code",
   "execution_count": null,
   "metadata": {},
   "outputs": [],
   "source": [
    "knn = KNeighborsClassifier(n_neighbors=30)\n",
    "knn.fit(std_data, train_labels)\n",
    "\n",
    "out = list(knn.predict(std_test_data))\n",
    "\n",
    "matrix, accuracy = confusion_matrix(out, test_labels)\n",
    "\n",
    "print(f\"accuracy of knn: {accuracy:>0.2%}\")\n",
    "\n",
    "axis_labels = [\"TR\", \"BMD\", \"monocyte\"]\n",
    "\n",
    "show_matrix(matrix, axis_labels, 'KNN w/ Standardized Raw Features')\n"
   ]
  },
  {
   "cell_type": "markdown",
   "metadata": {},
   "source": [
    "## Using PCA modified dataset with KNN\n",
    "\n",
    "Sometimes features that are not correlated with the correct class is detrimental to KNN. Using PCA dimensionality reduction we try to filter these out."
   ]
  },
  {
   "cell_type": "code",
   "execution_count": null,
   "metadata": {},
   "outputs": [],
   "source": [
    "knn_pca = KNeighborsClassifier(n_neighbors=len(phenotype))\n",
    "knn_pca.fit(pca_result, train_labels)\n",
    "\n",
    "pca_test_data = pca.transform(std_test_data)\n",
    "\n",
    "out = list(knn_pca.predict(pca_test_data))\n",
    "matrix, accuracy = confusion_matrix(out, test_labels)\n",
    "\n",
    "print(f\"accuracy of PCA knn: {accuracy:>0.2%}\")\n",
    "show_matrix(matrix, axis_labels, 'KNN w/ PCA Features')"
   ]
  },
  {
   "cell_type": "markdown",
   "metadata": {},
   "source": [
    "## Random forest with raw data"
   ]
  },
  {
   "cell_type": "code",
   "execution_count": null,
   "metadata": {},
   "outputs": [],
   "source": [
    "from sklearn.ensemble import RandomForestClassifier\n",
    "\n",
    "rfc = RandomForestClassifier()\n",
    "rfc.fit(std_data, train_labels)\n",
    "\n",
    "out = list(rfc.predict(std_test_data))\n",
    "\n",
    "matrix, accuracy = confusion_matrix(out, test_labels)\n",
    "print(f\"accuracy of random forest: {accuracy:>0.2%}\")\n",
    "show_matrix(matrix, axis_labels, 'Random Forest w/ Standardized Raw Features')"
   ]
  },
  {
   "cell_type": "markdown",
   "metadata": {},
   "source": [
    "## Random forest with extracted features"
   ]
  },
  {
   "cell_type": "code",
   "execution_count": null,
   "metadata": {},
   "outputs": [],
   "source": [
    "rfc_pca = RandomForestClassifier()\n",
    "rfc_pca.fit(pca_result, train_labels)\n",
    "\n",
    "out = list(rfc_pca.predict(pca_test_data))\n",
    "matrix, accuracy = confusion_matrix(out, test_labels)\n",
    "\n",
    "print(f\"accuracy of pca random forest: {accuracy:>0.2%}\")\n",
    "show_matrix(matrix, axis_labels,'Random Forest w/ PCA Features')"
   ]
  },
  {
   "cell_type": "markdown",
   "metadata": {},
   "source": [
    "## Decision Tree to extract most relevant features"
   ]
  },
  {
   "cell_type": "code",
   "execution_count": null,
   "metadata": {},
   "outputs": [],
   "source": [
    "from sklearn.tree import DecisionTreeClassifier\n",
    "\n",
    "decision_tree = DecisionTreeClassifier(random_state=0)\n",
    "decision_tree.fit(std_data, train_labels)\n",
    "out = list(decision_tree.predict(std_test_data))\n",
    "matrix, accuracy = confusion_matrix(out, test_labels)\n",
    "\n",
    "print(f\"accuracy of decision tree: {accuracy:>0.2%}\")\n",
    "show_matrix(matrix, axis_labels, 'Decision Tree w/ Standardized Raw Features')"
   ]
  },
  {
   "cell_type": "code",
   "execution_count": null,
   "metadata": {},
   "outputs": [],
   "source": [
    "f_1 = np.argmax(decision_tree.feature_importances_)\n",
    "feature_importances = decision_tree.feature_importances_\n",
    "importances_ranked = feature_importances.argsort()[::-1]\n",
    "feature_names = list(raw_data.keys())\n",
    "\n",
    "important_features = []\n",
    "print(\"Most Important Features from Decision Tree\")\n",
    "for i, feature in enumerate(importances_ranked[:30]):\n",
    "    important_features.append(feature_names[feature])\n",
    "    print(i, important_features[i], f\"{feature_importances[importances_ranked[i]]:.2%}\")\n"
   ]
  },
  {
   "cell_type": "markdown",
   "metadata": {},
   "source": [
    "## Training KNN with N Most relevant Features"
   ]
  },
  {
   "cell_type": "code",
   "execution_count": null,
   "metadata": {},
   "outputs": [],
   "source": [
    "selected_data = raw_data[important_features].to_numpy()\n",
    "\n",
    "selected_train_samples = np.stack([selected_data[ind] for ind in train_index])\n",
    "selected_test_samples = np.stack([selected_data[ind] for ind in test_index])\n",
    "\n",
    "sc = StandardScaler()\n",
    "sc.fit(selected_train_samples)\n",
    "selected_train_samples = sc.transform(selected_train_samples)\n",
    "selected_test_samples = sc.transform(selected_test_samples)\n"
   ]
  },
  {
   "cell_type": "code",
   "execution_count": null,
   "metadata": {},
   "outputs": [],
   "source": [
    "knn_selected = KNeighborsClassifier(n_neighbors=len(phenotype))\n",
    "knn_selected.fit(selected_train_samples, train_labels)\n",
    "\n",
    "out = list(knn_selected.predict(selected_test_samples))\n",
    "\n",
    "matrix, accuracy = confusion_matrix(out, test_labels)\n",
    "print(f\"accuracy of knn: {accuracy:>0.2%}\")\n",
    "show_matrix(matrix, axis_labels, 'KNN w/ Selected Features')"
   ]
  },
  {
   "cell_type": "code",
   "execution_count": null,
   "metadata": {},
   "outputs": [],
   "source": [
    "rfc_select = RandomForestClassifier()\n",
    "rfc_select.fit(selected_train_samples, train_labels)\n",
    "\n",
    "out = list(rfc_select.predict(selected_test_samples))\n",
    "matrix, accuracy = confusion_matrix(out, test_labels)\n",
    "\n",
    "print(f\"accuracy of pca random forest: {accuracy:>0.2%}\")\n",
    "show_matrix(matrix, axis_labels, 'Random Forest w/ Selected Features')"
   ]
  }
 ],
 "metadata": {
  "interpreter": {
   "hash": "aab8795380b30e625f05b9875eb19e47dede7d17a6e02ba200312899d03cb9f0"
  },
  "kernelspec": {
   "display_name": "Python 3.9.5 64-bit ('torchenv': conda)",
   "name": "python3"
  },
  "language_info": {
   "codemirror_mode": {
    "name": "ipython",
    "version": 3
   },
   "file_extension": ".py",
   "mimetype": "text/x-python",
   "name": "python",
   "nbconvert_exporter": "python",
   "pygments_lexer": "ipython3",
   "version": "3.9.5"
  },
  "orig_nbformat": 4
 },
 "nbformat": 4,
 "nbformat_minor": 2
}
