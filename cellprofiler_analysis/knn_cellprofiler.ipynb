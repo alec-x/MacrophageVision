{
 "cells": [
  {
   "cell_type": "markdown",
   "source": [
    "# Use CellProfiler Features Extracted to Construct a knn Network"
   ],
   "metadata": {}
  },
  {
   "cell_type": "code",
   "execution_count": null,
   "source": [
    "import pandas\r\n",
    "\r\n",
    "data = pandas.read_csv(r\"..\\data\\processed\\cellprofiler_data.csv\")"
   ],
   "outputs": [],
   "metadata": {}
  }
 ],
 "metadata": {
  "orig_nbformat": 4,
  "language_info": {
   "name": "python",
   "version": "3.7.10",
   "mimetype": "text/x-python",
   "codemirror_mode": {
    "name": "ipython",
    "version": 3
   },
   "pygments_lexer": "ipython3",
   "nbconvert_exporter": "python",
   "file_extension": ".py"
  },
  "kernelspec": {
   "name": "python3",
   "display_name": "Python 3.7.10 64-bit ('MacVis2': conda)"
  },
  "interpreter": {
   "hash": "5f28b055f488624bbcb43e5427a1e1a08ddfd594a0a14b1c81dd9f4cacf7b99e"
  }
 },
 "nbformat": 4,
 "nbformat_minor": 2
}