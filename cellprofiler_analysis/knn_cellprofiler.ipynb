{
 "cells": [
  {
   "cell_type": "markdown",
   "source": [
    "# Use CellProfiler Features Extracted to Construct a knn Network"
   ],
   "metadata": {}
  },
  {
   "cell_type": "markdown",
   "source": [
    "## Import data and split into training/test set"
   ],
   "metadata": {}
  },
  {
   "cell_type": "code",
   "execution_count": null,
   "source": [
    "import pandas as pd\r\n",
    "import numpy as np\r\n",
    "\r\n",
    "raw_data = pd.read_csv(r\"..\\data\\processed\\cellprofiler_data.csv\")\r\n",
    "data = raw_data.drop([\"Phenotype\", \"ImageNumber\"], axis=1)\r\n",
    "labels = raw_data[\"Phenotype\"]\r\n",
    "data = data.to_numpy()\r\n",
    "labels = labels.to_numpy()\r\n",
    "phenotype = {\"alveolar\": 0,\r\n",
    "             \"marrow\": 1,\r\n",
    "             \"monocyte\": 2}\r\n",
    "labels = [phenotype[label] for label in labels]\r\n",
    "\r\n",
    "from random import shuffle\r\n",
    "train_index = [[] for _ in range(len(phenotype))] \r\n",
    "test_index = [[] for _ in range(len(phenotype))]\r\n",
    "\r\n",
    "[train_index[labels[i]].append(i) for i in range(len(labels))]\r\n",
    "\r\n",
    "for i in range(len(train_index)):\r\n",
    "    tmp = train_index[i]\r\n",
    "    shuffle(tmp)\r\n",
    "\r\n",
    "    test_len = int(len(tmp)/5)\r\n",
    "    test_index[i].extend(tmp[:test_len])\r\n",
    "    train_index[i] = tmp[test_len:]\r\n",
    "\r\n",
    "tmp = []\r\n",
    "[tmp.extend(inds) for inds in train_index]\r\n",
    "train_index = tmp\r\n",
    "\r\n",
    "train_samples = np.stack([data[ind] for ind in train_index])\r\n",
    "train_labels = np.stack([labels[ind] for ind in train_index])\r\n",
    "\r\n",
    "tmp = []\r\n",
    "[tmp.extend(inds) for inds in test_index]\r\n",
    "test_index = tmp\r\n",
    "\r\n",
    "test_samples = np.stack([data[ind] for ind in test_index])\r\n",
    "test_labels = np.stack([labels[ind] for ind in test_index])"
   ],
   "outputs": [],
   "metadata": {}
  },
  {
   "cell_type": "markdown",
   "source": [
    "## PCA of data"
   ],
   "metadata": {}
  },
  {
   "cell_type": "code",
   "execution_count": null,
   "source": [
    "from sklearn.decomposition import PCA\r\n",
    "from sklearn.preprocessing import StandardScaler\r\n",
    "\r\n",
    "sc = StandardScaler()\r\n",
    "sc.fit(train_samples)\r\n",
    "std_data = sc.transform(train_samples)\r\n",
    "std_test_data = sc.transform(test_samples)\r\n",
    "\r\n",
    "num_comp = 2\r\n",
    "\r\n",
    "pca = PCA(n_components=num_comp)\r\n",
    "pca.fit(std_data)\r\n",
    "pca_result = pca.transform(std_data)\r\n",
    "\r\n",
    "graph_data = pd.DataFrame()\r\n",
    "graph_data['pca-one'] = pca_result[:,0]\r\n",
    "graph_data['pca-two'] = pca_result[:,1] \r\n",
    "#graph_data['pca-three'] = pca_result[:,2]  \r\n",
    "\r\n",
    "reverse_pheno = {v: k for k, v in phenotype.items()}\r\n",
    "\r\n",
    "graph_data['y'] = [reverse_pheno[label] for label in train_labels]\r\n",
    "\r\n",
    "\r\n",
    "print('Explained variation per principal component: {}'.format(pca.explained_variance_ratio_))\r\n",
    "\r\n",
    "import seaborn as sns\r\n",
    "from matplotlib import pyplot as plt\r\n",
    "plt.figure(figsize=(10,10))\r\n",
    "sns.scatterplot(\r\n",
    "    x=\"pca-one\", y=\"pca-two\",\r\n",
    "    hue=\"y\",\r\n",
    "    palette=sns.color_palette(\"hls\", 3),\r\n",
    "    data=graph_data,\r\n",
    "    legend=\"full\",\r\n",
    "    alpha=0.3\r\n",
    ")\r\n",
    "plt.show()"
   ],
   "outputs": [],
   "metadata": {}
  },
  {
   "cell_type": "markdown",
   "source": [
    "## T-SNE of Data"
   ],
   "metadata": {}
  },
  {
   "cell_type": "code",
   "execution_count": null,
   "source": [
    "from sklearn.manifold import TSNE\r\n",
    "\r\n",
    "TSNE = TSNE(n_components=2, perplexity=50, n_iter=5000, learning_rate=200)\r\n",
    "\r\n",
    "tsne_results = TSNE.fit_transform(std_data)"
   ],
   "outputs": [],
   "metadata": {}
  },
  {
   "cell_type": "code",
   "execution_count": null,
   "source": [
    "# visualize\r\n",
    "df_tsne = pd.DataFrame(tsne_results, columns=['t-sne-one', 't-sne-two'])\r\n",
    "df_tsne['label'] = [reverse_pheno[label] for label in train_labels]\r\n",
    "\r\n",
    "plt.figure(figsize=(10,10))\r\n",
    "sns.scatterplot(\r\n",
    "    x=\"t-sne-one\", y=\"t-sne-two\",\r\n",
    "    hue=\"label\",\r\n",
    "    palette=sns.color_palette(\"hls\", 3),\r\n",
    "    data=df_tsne,\r\n",
    "    legend=\"full\",\r\n",
    "    alpha=0.5\r\n",
    ")\r\n",
    "plt.show()"
   ],
   "outputs": [],
   "metadata": {}
  },
  {
   "cell_type": "markdown",
   "source": [
    "## Confusion Matrix Graphing Function "
   ],
   "metadata": {}
  },
  {
   "cell_type": "code",
   "execution_count": null,
   "source": [
    "import seaborn as sn\r\n",
    "import pandas as pd\r\n",
    "\r\n",
    "def confusion_matrix(out, test_labels):\r\n",
    "    num_classes = max(out) + 1\r\n",
    "\r\n",
    "    confusion_matrix = np.zeros((num_classes, num_classes))\r\n",
    "\r\n",
    "    for t, p in zip(out, test_labels):\r\n",
    "        confusion_matrix[int(t), int(p)] += 1\r\n",
    "\r\n",
    "    matrix = np.array(confusion_matrix)\r\n",
    "    matrix = np.array([i/sum(i) for i in matrix])\r\n",
    "\r\n",
    "    test_accuracy = 0\r\n",
    "    for i in range(num_classes):\r\n",
    "        test_accuracy += confusion_matrix[i,i]\r\n",
    "    test_accuracy = test_accuracy / sum(confusion_matrix.flatten())\r\n",
    "    return matrix, test_accuracy\r\n",
    "\r\n",
    "def show_matrix(matrix, labels, title):\r\n",
    "\r\n",
    "    matrix_df = pd.DataFrame(matrix, index=labels, columns=labels)\r\n",
    "    sn.set(font_scale=1.4) # for label size\r\n",
    "    sn.heatmap(matrix_df, annot=True, fmt='.2%') # font size\r\n",
    "    plt.title(title)\r\n",
    "    plt.show()\r\n",
    "    "
   ],
   "outputs": [],
   "metadata": {}
  },
  {
   "cell_type": "markdown",
   "source": [
    "# KNN With Standardized Raw Data"
   ],
   "metadata": {}
  },
  {
   "cell_type": "code",
   "execution_count": null,
   "source": [
    "from sklearn.neighbors import KNeighborsClassifier\r\n",
    "\r\n",
    "knn = KNeighborsClassifier(n_neighbors=len(phenotype))\r\n",
    "knn.fit(std_data, train_labels)\r\n",
    "\r\n",
    "out = list(knn.predict(std_test_data))\r\n",
    "\r\n",
    "matrix, accuracy = confusion_matrix(out, test_labels)\r\n",
    "\r\n",
    "print(f\"accuracy of knn: {accuracy:>0.2%}\")\r\n",
    "\r\n",
    "axis_labels = [\"alveolar\", \"marrow\", \"monocyte\"]\r\n",
    "\r\n",
    "show_matrix(matrix, axis_labels, 'KNN w/ Standardized Raw Features')\r\n"
   ],
   "outputs": [],
   "metadata": {}
  },
  {
   "cell_type": "markdown",
   "source": [
    "## Using PCA modified dataset with KNN\r\n",
    "\r\n",
    "Sometimes features that are not correlated with the correct class is detrimental to KNN. Using PCA dimensionality reduction we try to filter these out."
   ],
   "metadata": {}
  },
  {
   "cell_type": "code",
   "execution_count": null,
   "source": [
    "knn_pca = KNeighborsClassifier(n_neighbors=len(phenotype))\r\n",
    "knn_pca.fit(pca_result, train_labels)\r\n",
    "\r\n",
    "pca_test_data = pca.transform(std_test_data)\r\n",
    "\r\n",
    "out = list(knn_pca.predict(pca_test_data))\r\n",
    "matrix, accuracy = confusion_matrix(out, test_labels)\r\n",
    "\r\n",
    "print(f\"accuracy of PCA knn: {accuracy:>0.2%}\")\r\n",
    "show_matrix(matrix, axis_labels, 'KNN w/ PCA Features')"
   ],
   "outputs": [],
   "metadata": {}
  },
  {
   "cell_type": "markdown",
   "source": [
    "## Random forest with raw data"
   ],
   "metadata": {}
  },
  {
   "cell_type": "code",
   "execution_count": null,
   "source": [
    "from sklearn.ensemble import RandomForestClassifier\r\n",
    "\r\n",
    "rfc = RandomForestClassifier()\r\n",
    "rfc.fit(std_data, train_labels)\r\n",
    "\r\n",
    "out = list(rfc.predict(std_test_data))\r\n",
    "\r\n",
    "matrix, accuracy = confusion_matrix(out, test_labels)\r\n",
    "print(f\"accuracy of random forest: {accuracy:>0.2%}\")\r\n",
    "show_matrix(matrix, axis_labels, 'Random Forest w/ Standardized Raw Features')"
   ],
   "outputs": [],
   "metadata": {}
  },
  {
   "cell_type": "markdown",
   "source": [
    "## Random forest with extracted features"
   ],
   "metadata": {}
  },
  {
   "cell_type": "code",
   "execution_count": null,
   "source": [
    "rfc_pca = RandomForestClassifier()\r\n",
    "rfc_pca.fit(pca_result, train_labels)\r\n",
    "\r\n",
    "out = list(rfc_pca.predict(pca_test_data))\r\n",
    "matrix, accuracy = confusion_matrix(out, test_labels)\r\n",
    "\r\n",
    "print(f\"accuracy of pca random forest: {accuracy:>0.2%}\")\r\n",
    "show_matrix(matrix, axis_labels,'Random Forest w/ PCA Features')"
   ],
   "outputs": [],
   "metadata": {}
  },
  {
   "cell_type": "markdown",
   "source": [
    "## Decision Tree to extract most relevant features"
   ],
   "metadata": {}
  },
  {
   "cell_type": "code",
   "execution_count": null,
   "source": [
    "from sklearn.tree import DecisionTreeClassifier\r\n",
    "\r\n",
    "decision_tree = DecisionTreeClassifier(random_state=0)\r\n",
    "decision_tree.fit(std_data, train_labels)\r\n",
    "out = list(decision_tree.predict(std_test_data))\r\n",
    "matrix, accuracy = confusion_matrix(out, test_labels)\r\n",
    "\r\n",
    "print(f\"accuracy of decision tree: {accuracy:>0.2%}\")\r\n",
    "show_matrix(matrix, axis_labels, 'Decision Tree w/ Standardized Raw Features')"
   ],
   "outputs": [],
   "metadata": {}
  },
  {
   "cell_type": "code",
   "execution_count": null,
   "source": [
    "f_1 = np.argmax(decision_tree.feature_importances_)\r\n",
    "feature_importances = decision_tree.feature_importances_\r\n",
    "importances_ranked = feature_importances.argsort()[::-1]\r\n",
    "feature_names = list(raw_data.keys())\r\n",
    "\r\n",
    "important_features = []\r\n",
    "print(\"Most Important Features from Decision Tree\")\r\n",
    "for i, feature in enumerate(importances_ranked[:30]):\r\n",
    "    important_features.append(feature_names[feature])\r\n",
    "    print(i, important_features[i], f\"{feature_importances[importances_ranked[i]]:.2%}\")\r\n"
   ],
   "outputs": [],
   "metadata": {}
  },
  {
   "cell_type": "markdown",
   "source": [
    "## Training KNN with N Most relevant Features"
   ],
   "metadata": {}
  },
  {
   "cell_type": "code",
   "execution_count": null,
   "source": [
    "selected_data = raw_data[important_features].to_numpy()\r\n",
    "\r\n",
    "selected_train_samples = np.stack([selected_data[ind] for ind in train_index])\r\n",
    "selected_test_samples = np.stack([selected_data[ind] for ind in test_index])\r\n",
    "\r\n",
    "sc = StandardScaler()\r\n",
    "sc.fit(selected_train_samples)\r\n",
    "selected_train_samples = sc.transform(selected_train_samples)\r\n",
    "selected_test_samples = sc.transform(selected_test_samples)\r\n"
   ],
   "outputs": [],
   "metadata": {}
  },
  {
   "cell_type": "code",
   "execution_count": null,
   "source": [
    "knn_selected = KNeighborsClassifier(n_neighbors=len(phenotype))\r\n",
    "knn_selected.fit(selected_train_samples, train_labels)\r\n",
    "\r\n",
    "out = list(knn_selected.predict(selected_test_samples))\r\n",
    "\r\n",
    "matrix, accuracy = confusion_matrix(out, test_labels)\r\n",
    "print(f\"accuracy of knn: {accuracy:>0.2%}\")\r\n",
    "show_matrix(matrix, axis_labels, 'KNN w/ Selected Features')"
   ],
   "outputs": [],
   "metadata": {}
  },
  {
   "cell_type": "code",
   "execution_count": null,
   "source": [
    "rfc_select = RandomForestClassifier()\r\n",
    "rfc_select.fit(selected_train_samples, train_labels)\r\n",
    "\r\n",
    "out = list(rfc_select.predict(selected_test_samples))\r\n",
    "matrix, accuracy = confusion_matrix(out, test_labels)\r\n",
    "\r\n",
    "print(f\"accuracy of pca random forest: {accuracy:>0.2%}\")\r\n",
    "show_matrix(matrix, axis_labels, 'Random Forest w/ Selected Features')"
   ],
   "outputs": [],
   "metadata": {}
  }
 ],
 "metadata": {
  "orig_nbformat": 4,
  "language_info": {
   "name": "python",
   "version": "3.9.5",
   "mimetype": "text/x-python",
   "codemirror_mode": {
    "name": "ipython",
    "version": 3
   },
   "pygments_lexer": "ipython3",
   "nbconvert_exporter": "python",
   "file_extension": ".py"
  },
  "kernelspec": {
   "name": "python3",
   "display_name": "Python 3.9.5 64-bit ('torchenv': conda)"
  },
  "interpreter": {
   "hash": "aab8795380b30e625f05b9875eb19e47dede7d17a6e02ba200312899d03cb9f0"
  }
 },
 "nbformat": 4,
 "nbformat_minor": 2
}