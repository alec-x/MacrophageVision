{
 "cells": [
  {
   "cell_type": "markdown",
   "source": [
    "# Use CellProfiler Features Extracted to Construct a knn Network"
   ],
   "metadata": {}
  },
  {
   "cell_type": "code",
   "execution_count": 1,
   "source": [
    "import pandas\r\n",
    "\r\n",
    "raw_data = pandas.read_csv(r\"..\\data\\processed\\cellprofiler_data.csv\")\r\n",
    "data = raw_data[[\"ImageNumber\", \"AreaOccupied\", \"Perimeter\", \"Image_Granularity_1_RescaleIntensity\"]]\r\n"
   ],
   "outputs": [],
   "metadata": {}
  },
  {
   "cell_type": "code",
   "execution_count": 8,
   "source": [],
   "outputs": [],
   "metadata": {}
  },
  {
   "cell_type": "code",
   "execution_count": null,
   "source": [
    "from sklearn.neighbors import NearestNeighbors"
   ],
   "outputs": [],
   "metadata": {}
  }
 ],
 "metadata": {
  "orig_nbformat": 4,
  "language_info": {
   "name": "python",
   "version": "3.7.10",
   "mimetype": "text/x-python",
   "codemirror_mode": {
    "name": "ipython",
    "version": 3
   },
   "pygments_lexer": "ipython3",
   "nbconvert_exporter": "python",
   "file_extension": ".py"
  },
  "kernelspec": {
   "name": "python3",
   "display_name": "Python 3.7.10 64-bit ('MacVis2': conda)"
  },
  "interpreter": {
   "hash": "5f28b055f488624bbcb43e5427a1e1a08ddfd594a0a14b1c81dd9f4cacf7b99e"
  }
 },
 "nbformat": 4,
 "nbformat_minor": 2
}