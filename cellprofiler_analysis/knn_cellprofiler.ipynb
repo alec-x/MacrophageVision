{
 "cells": [
  {
   "cell_type": "markdown",
   "source": [
    "# Use CellProfiler Features Extracted to Construct a knn Network"
   ],
   "metadata": {}
  },
  {
   "cell_type": "code",
   "execution_count": null,
   "source": [
    "import pandas\r\n",
    "\r\n",
    "raw_data = pandas.read_csv(r\"..\\data\\processed\\cellprofiler_data.csv\")\r\n",
    "data = raw_data[[\"AreaOccupied\", \"Perimeter\", \"Image_Granularity_1_RescaleIntensity\"]]\r\n",
    "labels = raw_data[\"Image_Metadata_phenotype\"]\r\n",
    "data = data.to_numpy()\r\n",
    "labels = labels.to_numpy()\r\n",
    "phenotype = {\"alveolar\": 0,\r\n",
    "             \"marrow\": 1,\r\n",
    "             \"monocyte\": 2}\r\n",
    "labels = [phenotype[label] for label in labels]"
   ],
   "outputs": [],
   "metadata": {}
  },
  {
   "cell_type": "code",
   "execution_count": null,
   "source": [
    "from random import shuffle\r\n",
    "train_index = [[] for _ in range(len(phenotype))] \r\n",
    "test_index = [[] for _ in range(len(phenotype))]\r\n",
    "\r\n",
    "[train_index[labels[i]].append(i) for i in range(len(labels))]\r\n",
    "\r\n",
    "for i in range(len(train_index)):\r\n",
    "    tmp = train_index[i]\r\n",
    "    shuffle(tmp)\r\n",
    "\r\n",
    "    test_len = int(len(tmp)/5)\r\n",
    "    test_index[i].extend(tmp[:test_len])\r\n",
    "    train_index[i] = tmp[test_len:]\r\n",
    "\r\n",
    "tmp = []\r\n",
    "[tmp.extend(inds) for inds in train_index]\r\n",
    "train_index = tmp\r\n",
    "\r\n",
    "train_samples = [data[ind] for ind in train_index]\r\n",
    "train_labels = [labels[ind] for ind in train_index]\r\n",
    "\r\n",
    "tmp = []\r\n",
    "[tmp.extend(inds) for inds in test_index]\r\n",
    "test_index = tmp\r\n",
    "\r\n",
    "test_samples = [data[ind] for ind in test_index]\r\n",
    "test_labels = [labels[ind] for ind in test_index]"
   ],
   "outputs": [],
   "metadata": {}
  },
  {
   "cell_type": "code",
   "execution_count": null,
   "source": [
    "from sklearn.neighbors import KNeighborsClassifier\r\n",
    "\r\n",
    "knn = KNeighborsClassifier(n_neighbors=len(phenotype))\r\n",
    "knn.fit(train_samples, train_labels)\r\n"
   ],
   "outputs": [],
   "metadata": {}
  },
  {
   "cell_type": "code",
   "execution_count": null,
   "source": [
    "out = list(knn.predict(test_samples))\r\n",
    "correct = 0\r\n",
    "total = len(out)\r\n",
    "for pred, label in zip(out, test_labels):\r\n",
    "    correct += int(pred == label)\r\n",
    "\r\n",
    "accuracy = correct / total\r\n",
    "\r\n",
    "print(f\"accuracy of knn: {accuracy:>0.2%}\")"
   ],
   "outputs": [],
   "metadata": {}
  }
 ],
 "metadata": {
  "orig_nbformat": 4,
  "language_info": {
   "name": "python",
   "version": "3.7.10",
   "mimetype": "text/x-python",
   "codemirror_mode": {
    "name": "ipython",
    "version": 3
   },
   "pygments_lexer": "ipython3",
   "nbconvert_exporter": "python",
   "file_extension": ".py"
  },
  "kernelspec": {
   "name": "python3",
   "display_name": "Python 3.7.10 64-bit ('MacVis2': conda)"
  },
  "interpreter": {
   "hash": "491765e01fa3dfc6c98fe3165a4d0b07724f880971dca49810d2604a1e334570"
  }
 },
 "nbformat": 4,
 "nbformat_minor": 2
}