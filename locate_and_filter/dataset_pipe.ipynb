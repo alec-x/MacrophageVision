{
 "cells": [
  {
   "cell_type": "code",
   "execution_count": 30,
   "metadata": {},
   "outputs": [],
   "source": [
    "from filter_basic import main as filter_basic\r\n",
    "from locate_cells import main as locate_cells\r\n",
    "from thresholding import main as thresholding\r\n",
    "from os import remove\r\n",
    "import uuid"
   ]
  },
  {
   "cell_type": "code",
   "execution_count": 31,
   "metadata": {},
   "outputs": [],
   "source": [
    "# Using parse arg to input parameters seems to interfere with lower level argparse calls\r\n",
    "PATH = r\"D:\\\\bm_alveolar_sep_channel\\\\monocytes_autofluorescent\"\r\n",
    "thresholded_path = \"D:\\\\data\\\\processed\\\\autof_3\\\\monocyte\" # suffix \r\n",
    "CLEAR = True\r\n",
    "label = \"2\"\r\n",
    "suffix = str(uuid.uuid4())"
   ]
  },
  {
   "cell_type": "code",
   "execution_count": null,
   "metadata": {},
   "outputs": [],
   "source": [
    "located_path = \"data\\\\interim\\\\located_\" + suffix\r\n",
    "print(\"\\nlocating cells\")\r\n",
    "print(\"=================================================================\")\r\n",
    "locate_cells([PATH, \"-o\", located_path])\r\n",
    "print(\"=================================================================\")"
   ]
  },
  {
   "cell_type": "code",
   "execution_count": 33,
   "metadata": {},
   "outputs": [],
   "source": [
    "filtered_path = \"data\\\\interim\\\\filtered_\" + suffix \r\n",
    "print(\"\\nPerforming basic filtering\")\r\n",
    "print(\"=================================================================\")\r\n",
    "filter_basic([located_path, \"-o\", filtered_path])\r\n",
    "print(\"=================================================================\")"
   ]
  },
  {
   "cell_type": "code",
   "execution_count": null,
   "metadata": {},
   "outputs": [],
   "source": [
    "print(\"\\nPerforming thresholding into classes\")\r\n",
    "print(\"=================================================================\")\r\n",
    "thresholding([filtered_path, label, \"-o\", thresholded_path])\r\n",
    "print(\"=================================================================\")"
   ]
  },
  {
   "cell_type": "code",
   "execution_count": null,
   "metadata": {},
   "outputs": [],
   "source": [
    "if CLEAR:\r\n",
    "    print(\"\\nRemoving intermediary files\")\r\n",
    "    remove(located_path)\r\n",
    "    remove(filtered_path)"
   ]
  }
 ],
 "metadata": {
  "interpreter": {
   "hash": "ac3aead8dea22bd721698d41bf82f58dd98e26a479b82a1670803aba180e9c3b"
  },
  "kernelspec": {
   "display_name": "Python 3.8.5 64-bit ('base': conda)",
   "name": "python3"
  },
  "language_info": {
   "name": "python",
   "version": ""
  },
  "orig_nbformat": 4
 },
 "nbformat": 4,
 "nbformat_minor": 2
}